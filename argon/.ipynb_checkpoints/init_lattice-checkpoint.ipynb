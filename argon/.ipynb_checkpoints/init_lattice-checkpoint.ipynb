{
 "cells": [
  {
   "cell_type": "code",
   "execution_count": 1,
   "id": "a0ab1997-567c-4127-9554-c78fff9cbc6c",
   "metadata": {},
   "outputs": [],
   "source": [
    "import itertools\n",
    "import numpy as np"
   ]
  },
  {
   "cell_type": "code",
   "execution_count": 2,
   "id": "b94c890c-456b-49ee-b05c-c3970deb3646",
   "metadata": {},
   "outputs": [],
   "source": [
    "m = 8\n",
    "spacing = 5.0 # > particle size\n",
    "L = m * spacing\n",
    "\n",
    "N_tot = m**3\n",
    "N_particles = N_tot\n",
    "\n",
    "x = np.linspace(-L/2, L/2, m, endpoint=False) + spacing/2\n",
    "position = list(itertools.product(x, repeat=3))[:N_particles]\n",
    "position = np.asarray(position)"
   ]
  },
  {
   "cell_type": "code",
   "execution_count": 13,
   "id": "26875f4d-a324-489f-8afe-bf362bcd197d",
   "metadata": {},
   "outputs": [],
   "source": [
    "with open('argon.pdb', 'w') as f:\n",
    "    \n",
    "    f.write('HEADER    simple PDB file with {} atoms\\n'.format(N_particles))\n",
    "    f.write('CRYST1  {:7.3f}  {:7.3f}  {:7.3f}  90.00  90.00  90.00 P 1\\n'.format(L,L,L))\n",
    "    for i, l in enumerate(position+0.5*L):\n",
    "        if i<9:\n",
    "            f.write('ATOM      {} Ar   Ar  A   {}'.format(i+1, i+1))\n",
    "        elif i<99:\n",
    "            f.write('ATOM     {} Ar   Ar  A  {}'.format(i+1, i+1))\n",
    "        else:\n",
    "            f.write('ATOM    {} Ar   Ar  A {}'.format(i+1, i+1))\n",
    "        f.write('     {:7.3f} {:7.3f} {:7.3f}  1.00  0.00\\n'.format(*l))\n"
   ]
  }
 ],
 "metadata": {
  "kernelspec": {
   "display_name": "Python 3 (ipykernel)",
   "language": "python",
   "name": "python3"
  },
  "language_info": {
   "codemirror_mode": {
    "name": "ipython",
    "version": 3
   },
   "file_extension": ".py",
   "mimetype": "text/x-python",
   "name": "python",
   "nbconvert_exporter": "python",
   "pygments_lexer": "ipython3",
   "version": "3.11.6"
  }
 },
 "nbformat": 4,
 "nbformat_minor": 5
}
